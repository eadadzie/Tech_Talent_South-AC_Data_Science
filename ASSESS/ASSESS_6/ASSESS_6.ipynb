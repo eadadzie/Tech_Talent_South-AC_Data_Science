{
 "cells": [
  {
   "cell_type": "markdown",
   "metadata": {},
   "source": [
    "# Assessment 6 - Q1\n",
    "=> Input\n",
    "\n",
    "STDIN Function\n",
    "\n",
    "5 → radius = 5.0 3 4 → width = 3.0, height = 4.0 2 → radius = 2.0 3.3 → width = 3.3 5 7.5 → width = 5.0, height = 7.5\n",
    "\n",
    "=> Output\n",
    "\n",
    "79 12 13 11 38"
   ]
  },
  {
   "cell_type": "code",
   "execution_count": null,
   "metadata": {},
   "outputs": [],
   "source": [
    "import math\n",
    "\n",
    "class Circle:\n",
    "    def __init__(self, radius):\n",
    "        self.radius = radius\n",
    "    \n",
    "    def getArea(self):\n",
    "        area = math.ceil(math.pi * self.radius ** 2)\n",
    "        return area \n",
    "\n",
    "class Rectangle:\n",
    "    def __init__(self, width, height):\n",
    "        self.width = width\n",
    "        self.height = height\n",
    "\n",
    "    def getArea(self):\n",
    "        area = math.ceil(self.width * self.height)\n",
    "        return area\n",
    "\n",
    "class Square:\n",
    "    def __init__(self, width):\n",
    "        self.width = width\n",
    "\n",
    "    def getArea(self):\n",
    "        area = math.ceil(self.width ** 2)\n",
    "        return area"
   ]
  },
  {
   "cell_type": "code",
   "execution_count": null,
   "metadata": {},
   "outputs": [],
   "source": [
    "my_Circle_1 = Circle(5.0)\n",
    "my_Rectangle_1 = Rectangle(3.0, 4.0)\n",
    "my_Circle_2 = Circle(2.0)\n",
    "my_Square_1 = Square(3.3)\n",
    "my_Rectangle_2 = Rectangle(5.0, 7.5)\n",
    "\n",
    "print(my_Circle_1.getArea())\n",
    "print(my_Rectangle_1.getArea())\n",
    "print(my_Circle_2.getArea())\n",
    "print(my_Square_1.getArea())\n",
    "print(my_Rectangle_2.getArea())"
   ]
  },
  {
   "cell_type": "markdown",
   "metadata": {},
   "source": [
    "# Assessment 6 - Q2"
   ]
  },
  {
   "cell_type": "code",
   "execution_count": null,
   "metadata": {},
   "outputs": [],
   "source": [
    "class LetterFilter:\n",
    "    vowels = [\"a\", \"e\", \"i\", \"o\", \"u\"]\n",
    "    \n",
    "    def __init__(self, s):\n",
    "        self.s = s\n",
    "    \n",
    "    def filter_vowels(self):\n",
    "    # Enter your code here\n",
    "        new_str = self.s\n",
    "        for i in new_str:\n",
    "            if i in LetterFilter.vowels:\n",
    "                new_str = new_str.replace(i, \"\")             \n",
    "        # Return a string\n",
    "        return new_str\n",
    "\n",
    "    def filter_consonants(self):\n",
    "    # Enter your code here\n",
    "        new_str = self.s\n",
    "        for i in new_str:\n",
    "            if i not in LetterFilter.vowels:\n",
    "                new_str= new_str.replace(i, \"\")             \n",
    "        # Return a string\n",
    "        return new_str"
   ]
  },
  {
   "cell_type": "code",
   "execution_count": null,
   "metadata": {},
   "outputs": [],
   "source": [
    "s = input()\n",
    "f = LetterFilter(s)\n",
    "print(f.filter_vowels())\n",
    "print(f.filter_consonants())"
   ]
  }
 ],
 "metadata": {
  "kernelspec": {
   "display_name": "Python 3",
   "language": "python",
   "name": "python3"
  },
  "language_info": {
   "codemirror_mode": {
    "name": "ipython",
    "version": 3
   },
   "file_extension": ".py",
   "mimetype": "text/x-python",
   "name": "python",
   "nbconvert_exporter": "python",
   "pygments_lexer": "ipython3",
   "version": "3.8.5"
  }
 },
 "nbformat": 4,
 "nbformat_minor": 4
}
