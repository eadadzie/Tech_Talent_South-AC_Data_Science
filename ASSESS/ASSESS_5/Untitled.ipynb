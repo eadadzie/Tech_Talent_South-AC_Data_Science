{
 "cells": [
  {
   "cell_type": "markdown",
   "metadata": {},
   "source": [
    "# Q1"
   ]
  },
  {
   "cell_type": "code",
   "execution_count": null,
   "metadata": {},
   "outputs": [],
   "source": [
    "from itertools import count\n",
    "\n",
    "def even(start, n):\n",
    "    # write your code here\n",
    "    lst = []\n",
    "    for i in count(start):\n",
    "        if i % 2 == 0:\n",
    "           lst.append(i)\n",
    "        else:\n",
    "            continue\n",
    "        if len(lst) == n:\n",
    "            break \n",
    "    return lst\n",
    "    \n",
    "if __name__ == '__main__':\n",
    "    fptr = open(os.environ['OUTPUT_PATH'], 'w')\n",
    "    start, n = map(int, input().split())\n",
    "    res = even(start, n)\n",
    "    assert type(res) == list\n",
    "    fptr.write(\" \".join(map(str, res)) + '\\n')\n",
    "    fptr.close()"
   ]
  },
  {
   "cell_type": "markdown",
   "metadata": {},
   "source": [
    "# Q2"
   ]
  },
  {
   "cell_type": "code",
   "execution_count": null,
   "metadata": {},
   "outputs": [],
   "source": [
    "class LetterFilter:\n",
    "    vowels = [\"a\", \"e\", \"i\", \"o\", \"u\"]\n",
    "    \n",
    "    def __init__(self, s):\n",
    "        self.s = s\n",
    "    \n",
    "    def filter_vowels(self):\n",
    "    # Enter your code here\n",
    "        new_str = self.s\n",
    "        for i in new_str:\n",
    "            if i in LetterFilter.vowels:\n",
    "                new_str = new_str.replace(i, \"\")             \n",
    "        # Return a string\n",
    "        return new_str\n",
    "\n",
    "    def filter_consonants(self):\n",
    "    # Enter your code here\n",
    "        new_str = self.s\n",
    "        for i in new_str:\n",
    "            if i not in LetterFilter.vowels:\n",
    "                new_str= new_str.replace(i, \"\")             \n",
    "        # Return a string\n",
    "        return new_str\n",
    "\n",
    "s = input()\n",
    "f = LetterFilter(s)\n",
    "print(f.filter_vowels())\n",
    "print(f.filter_consonants())"
   ]
  },
  {
   "cell_type": "markdown",
   "metadata": {},
   "source": [
    "# Q3"
   ]
  },
  {
   "cell_type": "code",
   "execution_count": null,
   "metadata": {},
   "outputs": [],
   "source": [
    "def multiply(a, b, bound):\n",
    "    # write your code here\n",
    "    result = a * b\n",
    "    if result <= bound:\n",
    "        return result\n",
    "    else:\n",
    "        raise ValueError(f\"multiplication of {a} and {b} with bound {bound} not possible\")\n",
    "    \n",
    "    \n",
    "\n",
    "if __name__ == '__main__':\n",
    "    fptr = open(os.environ['OUTPUT_PATH'], 'w')\n",
    "    q = int(input())\n",
    "    for _ in range(q):\n",
    "        a, b, bound = list(map(int, input().split()))\n",
    "        try:\n",
    "            res = multiply(a, b, bound)\n",
    "            fptr.write(\"%d\\n\" % res)\n",
    "        except ValueError as e:\n",
    "            fptr.write(\"%s\\n\" % e)\n",
    "    fptr.close()\n"
   ]
  },
  {
   "cell_type": "markdown",
   "metadata": {},
   "source": [
    "# Q9"
   ]
  },
  {
   "cell_type": "code",
   "execution_count": 2,
   "metadata": {},
   "outputs": [
    {
     "data": {
      "text/plain": [
       "['taking', 'going']"
      ]
     },
     "execution_count": 2,
     "metadata": {},
     "output_type": "execute_result"
    }
   ],
   "source": [
    "import re\n",
    "\n",
    "s = \"Right now I am taking an assessment. Later, I am going to the gym.\"\n",
    "\n",
    "re.findall(r'\\w+ing\\b', s)"
   ]
  }
 ],
 "metadata": {
  "kernelspec": {
   "display_name": "Python 3",
   "language": "python",
   "name": "python3"
  },
  "language_info": {
   "codemirror_mode": {
    "name": "ipython",
    "version": 3
   },
   "file_extension": ".py",
   "mimetype": "text/x-python",
   "name": "python",
   "nbconvert_exporter": "python",
   "pygments_lexer": "ipython3",
   "version": "3.8.5"
  }
 },
 "nbformat": 4,
 "nbformat_minor": 4
}
