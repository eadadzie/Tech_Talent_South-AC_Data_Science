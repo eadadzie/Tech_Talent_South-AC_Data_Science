{
 "cells": [
  {
   "cell_type": "markdown",
   "metadata": {},
   "source": [
    "Data Science Fundamentals: R |\n",
    "[Table of Contents](../index.ipynb)\n",
    "- - - \n",
    "<!--NAVIGATION-->\n",
    "Module 14. **[Installingtidyverse](./00_InstallingTidyverse.ipynb)** | [R Markdown](./01_RMarkdown.ipynb) | [R + Shiny App](./02_RShinyApp.ipynb) | [Basic Visualization](./03_BasicVisual.ipynb) | [Tibbles](./04_Tibbles.ipynb)  | [ggplot2](./05_ggplot2.ipynb) | [Statistical Transformations](./06_StatTransforms.ipynb) | [Exercises](./07_Exercises.ipynb)"
   ]
  },
  {
   "cell_type": "markdown",
   "metadata": {},
   "source": [
    "# [tidyverse](https://www.tidyverse.org/)"
   ]
  },
  {
   "cell_type": "markdown",
   "metadata": {},
   "source": [
    "![tidyverse](images/slides1.png)"
   ]
  },
  {
   "cell_type": "raw",
   "metadata": {},
   "source": [
    "#install.packages(\"tidyverse\")"
   ]
  },
  {
   "cell_type": "code",
   "execution_count": 10,
   "metadata": {},
   "outputs": [],
   "source": [
    "#If this runs properly, you're good.\n",
    "library(tidyverse)"
   ]
  },
  {
   "cell_type": "markdown",
   "metadata": {},
   "source": [
    "You may run into an issue during any of these portions of these installs where a previous installation lists as \n",
    "\"Warning message:\n",
    "\"cannot remove prior installation of package 'jsonlite'\"Warning message in file.copy(savedcopy, lib, recursive = TRUE): ...\" See below:"
   ]
  },
  {
   "cell_type": "raw",
   "metadata": {},
   "source": [
    "#install.packages(c(\"jsonlite\"))"
   ]
  },
  {
   "cell_type": "raw",
   "metadata": {},
   "source": [
    "#install.packages(c(\"tidyverse\"))"
   ]
  },
  {
   "cell_type": "raw",
   "metadata": {},
   "source": [
    "#tidyverse_update(recursive = FALSE, repos = getOption(\"repos\"))"
   ]
  },
  {
   "cell_type": "raw",
   "metadata": {},
   "source": [
    "#install.packages(c(\"jsonlite\", \"rlang\"))"
   ]
  },
  {
   "cell_type": "raw",
   "metadata": {},
   "source": [
    "#install.packages(\"rlang\")"
   ]
  },
  {
   "cell_type": "markdown",
   "metadata": {},
   "source": [
    "![tidyverse](images/slides2.png)"
   ]
  },
  {
   "cell_type": "raw",
   "metadata": {},
   "source": [
    "tidyverse_update(recursive = FALSE, repos = getOption(\"repos\"))"
   ]
  },
  {
   "cell_type": "markdown",
   "metadata": {},
   "source": [
    "- - - \n",
    "<!--NAVIGATION-->\n",
    "Module 14. **[Installingtidyverse](./00_InstallingTidyverse.ipynb)** | [R Markdown](./01_RMarkdown.ipynb) | [R + Shiny App](./02_RShinyApp.ipynb) | [Basic Visualization](./03_BasicVisual.ipynb) | [Tibbles](./04_Tibbles.ipynb)  | [ggplot2](./05_ggplot2.ipynb) | [Statistical Transformations](./06_StatTransforms.ipynb) | [Exercises](./07_Exercises.ipynb)"
   ]
  }
 ],
 "metadata": {
  "kernelspec": {
   "display_name": "R",
   "language": "R",
   "name": "ir"
  },
  "language_info": {
   "codemirror_mode": "r",
   "file_extension": ".r",
   "mimetype": "text/x-r-source",
   "name": "R",
   "pygments_lexer": "r",
   "version": "3.6.1"
  }
 },
 "nbformat": 4,
 "nbformat_minor": 4
}
