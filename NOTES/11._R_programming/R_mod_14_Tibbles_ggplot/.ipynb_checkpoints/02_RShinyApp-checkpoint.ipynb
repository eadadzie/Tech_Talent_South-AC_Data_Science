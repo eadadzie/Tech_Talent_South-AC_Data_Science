{
 "cells": [
  {
   "cell_type": "markdown",
   "metadata": {},
   "source": [
    "Data Science Fundamentals: R |\n",
    "[Table of Contents](../index.ipynb)\n",
    "- - - \n",
    "<!--NAVIGATION-->\n",
    "Module 14. [Installingtidyverse](./00_InstallingTidyverse.ipynb) | [R Markdown](./01_RMarkdown.ipynb) | **[R + Shiny App](./02_RShinyApp.ipynb)** | [Basic Visualization](./03_BasicVisual.ipynb) | [Tibbles](./04_Tibbles.ipynb)  | [ggplot2](./05_ggplot2.ipynb) | [Statistical Transformations](./06_StatTransforms.ipynb) | [Exercises](./07_Exercises.ipynb)"
   ]
  },
  {
   "cell_type": "markdown",
   "metadata": {},
   "source": [
    "# [R + Shiny App](https://shiny.rstudio.com/)"
   ]
  },
  {
   "cell_type": "markdown",
   "metadata": {},
   "source": [
    "Shiny is an R package that makes it easy to build interactive web apps straight from R. You can host standalone apps on a webpage or embed them in R Markdown documents or build dashboards. You can also extend your Shiny apps with CSS themes, htmlwidgets, and JavaScript actions."
   ]
  },
  {
   "cell_type": "code",
   "execution_count": 3,
   "metadata": {},
   "outputs": [
    {
     "data": {
      "text/html": [
       "<iframe src='https://player.vimeo.com/video/131218530?color=428bca' width='640' height='400' frameborder='0'</iframe>"
      ]
     },
     "metadata": {},
     "output_type": "display_data"
    }
   ],
   "source": [
    "library(IRdisplay)\n",
    "\n",
    "  display_html(\"<iframe src='https://player.vimeo.com/video/131218530?color=428bca' width='640' height='400' frameborder='0'</iframe>\")"
   ]
  },
  {
   "cell_type": "markdown",
   "metadata": {},
   "source": [
    "## Installation"
   ]
  },
  {
   "cell_type": "raw",
   "metadata": {
    "scrolled": true
   },
   "source": [
    "#install.packages(\"shiny\")"
   ]
  },
  {
   "cell_type": "raw",
   "metadata": {},
   "source": [
    "#install.packages(\"shinyjs\")"
   ]
  },
  {
   "cell_type": "markdown",
   "metadata": {},
   "source": [
    "## Examples"
   ]
  },
  {
   "cell_type": "markdown",
   "metadata": {},
   "source": [
    "![image](images/01_hello.png)"
   ]
  },
  {
   "cell_type": "markdown",
   "metadata": {},
   "source": [
    "The Shiny package has eleven [built-in examples](https://shiny.rstudio.com/tutorial/written-tutorial/lesson1/#Go%20Further) that each demonstrate how Shiny works. Each example is a self-contained Shiny app.\n",
    "\n",
    "The Hello Shiny example plots a histogram of R’s faithful dataset with a configurable number of bins. Users can change the number of bins with a slider bar, and the app will immediately respond to their input. You’ll use Hello Shiny to explore the structure of a Shiny app and to create your first app.\n",
    "\n",
    "To run Hello Shiny interactively, type:"
   ]
  },
  {
   "cell_type": "raw",
   "metadata": {},
   "source": [
    "#library(shiny)"
   ]
  },
  {
   "cell_type": "markdown",
   "metadata": {},
   "source": [
    "**Be careful:** when you run this you have to restart the kernel in Jupyter Notebook to release the ports and stop the app. "
   ]
  },
  {
   "cell_type": "markdown",
   "metadata": {},
   "source": [
    "runExample(\"08_html\")"
   ]
  },
  {
   "cell_type": "markdown",
   "metadata": {},
   "source": [
    "### Running in a Separate Process\n",
    "\n",
    "If you don’t want to block access to the console while running your Shiny application you can also run it in a separate process. You can do this by opening a terminal or console window and executing the following, where ~/shinyapp should be replaced with the path to your application:"
   ]
  },
  {
   "cell_type": "raw",
   "metadata": {},
   "source": [
    "R -e \"shiny::runApp('~/shinyapp')\""
   ]
  },
  {
   "cell_type": "markdown",
   "metadata": {},
   "source": [
    "You can also publish your Shiny Apps to [ShinyApps.io](https://www.shinyapps.io/).  "
   ]
  },
  {
   "cell_type": "markdown",
   "metadata": {},
   "source": [
    "You can create a close button to close down Shiny Apps, see below: "
   ]
  },
  {
   "cell_type": "code",
   "execution_count": 1,
   "metadata": {},
   "outputs": [
    {
     "name": "stderr",
     "output_type": "stream",
     "text": [
      "\n",
      "Attaching package: ‘shinyjs’\n",
      "\n",
      "\n",
      "The following object is masked from ‘package:shiny’:\n",
      "\n",
      "    runExample\n",
      "\n",
      "\n",
      "The following objects are masked from ‘package:methods’:\n",
      "\n",
      "    removeClass, show\n",
      "\n",
      "\n",
      "\n",
      "Listening on http://127.0.0.1:7335\n",
      "\n"
     ]
    }
   ],
   "source": [
    "library(shiny)\n",
    "library(shinyjs)\n",
    "\n",
    "jscode <- \"shinyjs.closeWindow = function() { window.close(); }\"\n",
    "\n",
    "ui <- fluidPage(\n",
    "  useShinyjs(),\n",
    "  extendShinyjs(text = jscode, functions = c(\"closeWindow\")),\n",
    "  actionButton(\"close\", \"Close window\")\n",
    ")\n",
    "\n",
    "server <- function(input, output, session) {\n",
    "  observeEvent(input$close, {\n",
    "    js$closeWindow()\n",
    "    stopApp()\n",
    "  })\n",
    "}\n",
    "\n",
    "shinyApp(ui, server)"
   ]
  },
  {
   "cell_type": "markdown",
   "metadata": {},
   "source": [
    "## Structure of a Shiny App\n",
    "\n",
    "Shiny apps are contained in a single script called app.R. The script app.R lives in a directory (for example, ```newdir/)``` and the app can be run with ```runApp(\"newdir\")```.\n",
    "\n",
    "app.R has three components:\n",
    "\n",
    "- a user interface object\n",
    "- a server function\n",
    "- a call to the shinyApp function\n",
    "\n",
    "The user interface (ui) object controls the layout and appearance of your app. The server function contains the instructions that your computer needs to build your app. Finally the shinyApp function creates Shiny app objects from an explicit UI/server pair.\n",
    "\n",
    "**Note:** Prior to version 0.10.2, Shiny did not support single-file apps and the ui object and server function needed to be contained in separate scripts called ui.R and server.R, respectively. This functionality is still supported in Shiny, however the tutorial and much of the supporting documentation focus on single-file apps.\n",
    "\n",
    "One nice feature about single-file apps is that you can copy and paste the entire app into the R console, which makes it easy to quickly share code for others to experiment with. "
   ]
  },
  {
   "cell_type": "markdown",
   "metadata": {},
   "source": [
    "## Running a Shiny App"
   ]
  },
  {
   "cell_type": "markdown",
   "metadata": {},
   "source": [
    "runApp(appDir = getwd(), port = getOption(\"shiny.port\"),\n",
    "  launch.browser = getOption(\"shiny.launch.browser\", interactive()),\n",
    "  host = getOption(\"shiny.host\", \"127.0.0.1\"), workerId = \"\",\n",
    "  quiet = FALSE, display.mode = c(\"auto\", \"normal\", \"showcase\"))"
   ]
  },
  {
   "cell_type": "markdown",
   "metadata": {},
   "source": [
    "### Arguments\n",
    "\n",
    "**appDir**\t\n",
    "\n",
    "The application to run. Should be one of the following:\n",
    "\n",
    "- A directory containing server.R, plus, either ui.R or a www directory that contains the file index.html.\n",
    "- A directory containing app.R.\n",
    "- An .R file containing a Shiny application, ending with an expression that produces a Shiny app object.\n",
    "- A list with ui and server components.\n",
    "- A Shiny app object created by shinyApp.\n",
    "- port\tThe TCP port that the application should listen on. If the port is not specified, and the shiny.port option is set (with options(shiny.port = XX)), then that port will be used. Otherwise, use a random port.\n",
    "\n",
    "**launch.browser**\n",
    "\n",
    "If true, the system's default web browser will be launched automatically after the app is started. Defaults to true in interactive sessions only. This value of this parameter can also be a function to call with the application's URL.\n",
    "\n",
    "**host**\t\n",
    "\n",
    "The IPv4 address that the application should listen on. Defaults to the shiny.host option, if set, or \"127.0.0.1\" if not. See Details.\n",
    "\n",
    "**workerId**\n",
    "\n",
    "Can generally be ignored. Exists to help some editions of Shiny Server Pro route requests to the correct process.\n",
    "quiet\tShould Shiny status messages be shown? Defaults to FALSE.\n",
    "\n",
    "**display.mode**\n",
    "\n",
    "The mode in which to display the application. If set to the value \"showcase\", shows application code and metadata from a DESCRIPTION file in the application directory alongside the application. If set to \"normal\", displays the application normally. Defaults to \"auto\", which displays the application in the mode given in its DESCRIPTION file, if any."
   ]
  },
  {
   "cell_type": "raw",
   "metadata": {},
   "source": [
    "## Not run: ------------------------------------\n",
    "# # Start app in the current working directory\n",
    "# runApp()\n",
    "# \n",
    "# # Start app in a subdirectory called myapp\n",
    "# runApp(\"myapp\")\n",
    "## ---------------------------------------------\n",
    "\n",
    "## Only run this example in interactive R sessions\n",
    "if (interactive()) {\n",
    "  # Apps can be run without a server.r and ui.r file\n",
    "  runApp(list(\n",
    "    ui = bootstrapPage(\n",
    "      numericInput('n', 'Number of obs', 100),\n",
    "      plotOutput('plot')\n",
    "    ),\n",
    "    server = function(input, output) {\n",
    "      output$plot <- renderPlot({ hist(runif(input$n)) })\n",
    "    }\n",
    "  ))\n",
    "\n",
    "\n",
    "  # Running a Shiny app object\n",
    "  app <- shinyApp(\n",
    "    ui = bootstrapPage(\n",
    "      numericInput('n', 'Number of obs', 100),\n",
    "      plotOutput('plot')\n",
    "    ),\n",
    "    server = function(input, output) {\n",
    "      output$plot <- renderPlot({ hist(runif(input$n)) })\n",
    "    }\n",
    "  )\n",
    "  runApp(app)\n",
    "}"
   ]
  },
  {
   "cell_type": "markdown",
   "metadata": {},
   "source": [
    "## How To Build A Shiny App"
   ]
  },
  {
   "cell_type": "markdown",
   "metadata": {},
   "source": [
    "A Shiny application is simply a directory containing an R script called app.R which is made up of a user interface object and a server function. This folder can also contain any any additional data, scripts, or other resources required to support the application."
   ]
  },
  {
   "cell_type": "markdown",
   "metadata": {},
   "source": [
    "### UI & Server\n",
    "\n",
    "To get started building the application, create a new empty directory wherever you’d like, then create an empty app.R file within it. For purposes of illustration we’ll assume you’ve chosen to create the application at ```~/shinyapp```:"
   ]
  },
  {
   "cell_type": "raw",
   "metadata": {},
   "source": [
    "~/shinyapp\n",
    "|-- app.R"
   ]
  },
  {
   "cell_type": "markdown",
   "metadata": {},
   "source": [
    "### UI\n",
    "#### ```App.R```"
   ]
  },
  {
   "cell_type": "raw",
   "metadata": {},
   "source": [
    "# Define UI for miles per gallon app ----\n",
    "ui <- pageWithSidebar(\n",
    "\n",
    "  # App title ----\n",
    "  headerPanel(\"Miles Per Gallon\"),\n",
    "\n",
    "  # Sidebar panel for inputs ----\n",
    "  sidebarPanel(),\n",
    "\n",
    "  # Main panel for displaying outputs ----\n",
    "  mainPanel()\n",
    ")"
   ]
  },
  {
   "cell_type": "markdown",
   "metadata": {},
   "source": [
    "The three functions headerPanel, sidebarPanel, and mainPanel define the various regions of the user-interface. The application will be called “Miles Per Gallon” so we specify that as the title when we create the header panel. The other panels are empty for now.\n",
    "\n",
    "Now let’s define a skeletal server implementation. To do this we call shinyServer and pass it a function that accepts two parameters, input and output:"
   ]
  },
  {
   "cell_type": "markdown",
   "metadata": {},
   "source": [
    "#### ```server```"
   ]
  },
  {
   "cell_type": "raw",
   "metadata": {},
   "source": [
    "# Define server logic to plot various variables against mpg ----\n",
    "server <- function(input, output) {\n",
    "\n",
    "}"
   ]
  },
  {
   "cell_type": "markdown",
   "metadata": {},
   "source": [
    "The ```app.r``` script in the ```./mpg directory``` looks like this: "
   ]
  },
  {
   "cell_type": "raw",
   "metadata": {},
   "source": [
    "library(shiny)\n",
    "\n",
    "# Define UI for miles per gallon app ----\n",
    "ui <- pageWithSidebar(\n",
    "  \n",
    "  # App title ----\n",
    "  headerPanel(\"Miles Per Gallon\"),\n",
    "  \n",
    "  # Sidebar panel for inputs ----\n",
    "  sidebarPanel(),\n",
    "  \n",
    "  # Main panel for displaying outputs ----\n",
    "  mainPanel()\n",
    ")http://localhost:8888/notebooks/working_class/datascience/r/14_mod_r_tibbles_ggplot/02.ipynb#\n",
    "\n",
    "# Define server logic to plot various variables against mpg ----\n",
    "server <- function(input, output) {\n",
    "\n",
    "}\n",
    "\n",
    "\n",
    "shinyApp(ui, server)"
   ]
  },
  {
   "cell_type": "markdown",
   "metadata": {},
   "source": [
    "Run the application by submitting the following command:"
   ]
  },
  {
   "cell_type": "markdown",
   "metadata": {},
   "source": [
    "**Be careful:** when you run this you have to restart the kernel in Jupyter Notebook to release the ports and stop the app. "
   ]
  },
  {
   "cell_type": "code",
   "execution_count": null,
   "metadata": {},
   "outputs": [
    {
     "name": "stderr",
     "output_type": "stream",
     "text": [
      "\n",
      "Listening on http://127.0.0.1:7335\n",
      "\n"
     ]
    }
   ],
   "source": [
    "library(shiny)\n",
    "runApp(\"./mpg\")"
   ]
  },
  {
   "cell_type": "code",
   "execution_count": null,
   "metadata": {},
   "outputs": [],
   "source": []
  },
  {
   "cell_type": "markdown",
   "metadata": {},
   "source": [
    "## Inputs and Outputs\n",
    "\n",
    "### Adding Inputs to the Sidebar\n",
    "\n",
    "Build using the ```mtcars``` data from the R datasets package, and allows users to see a box-plot that explores the relationship between miles-per-gallon (MPG) and three other variables (Cylinders, Transmission, and Gears).\n",
    "\n",
    "Build to select which variable to plot MPG against as well as provide an option to include or exclude outliers from the plot. To do this we’ll add two elements to the sidebar, a selectInput to specify the variable and a checkboxInput to control display of outliers. Our user-interface definition looks like this after adding these elements:"
   ]
  },
  {
   "cell_type": "markdown",
   "metadata": {},
   "source": [
    "### ```ui```"
   ]
  },
  {
   "cell_type": "raw",
   "metadata": {},
   "source": [
    "# Define UI for miles per gallon app ----\n",
    "ui <- fluidPage(\n",
    "\n",
    "  # App title ----\n",
    "  titlePanel(\"Miles Per Gallon\"),\n",
    "\n",
    "  # Sidebar layout with input and output definitions ----\n",
    "  sidebarLayout(\n",
    "\n",
    "    # Sidebar panel for inputs ----\n",
    "    sidebarPanel(\n",
    "\n",
    "      # Input: Selector for variable to plot against mpg ----\n",
    "      selectInput(\"variable\", \"Variable:\",\n",
    "                  c(\"Cylinders\" = \"cyl\",\n",
    "                    \"Transmission\" = \"am\",\n",
    "                    \"Gears\" = \"gear\")),\n",
    "\n",
    "      # Input: Checkbox for whether outliers should be included ----\n",
    "      checkboxInput(\"outliers\", \"Show outliers\", TRUE)\n",
    "\n",
    "    ),\n",
    "\n",
    "    # Main panel for displaying outputs ----\n",
    "    mainPanel(\n",
    "\n",
    "      # Output: Formatted text for caption ----\n",
    "      h3(textOutput(\"caption\")),\n",
    "\n",
    "      # Output: Plot of the requested variable against mpg ----\n",
    "      plotOutput(\"mpgPlot\")\n",
    "\n",
    "    )\n",
    "  )\n",
    ")"
   ]
  },
  {
   "cell_type": "markdown",
   "metadata": {},
   "source": [
    "## Displaying Outputs\n",
    "\n",
    "The server function assigned two output values: ```output$caption``` and ```output$mpgPlot```. To update our user interface to display the output we need to add some elements to the main UI panel.\n",
    "\n",
    "In the updated user-interface definition above you can see that we’ve added the caption as an h3 element and filled in its value using the textOutput function, and also rendered the plot by calling the plotOutput function."
   ]
  },
  {
   "cell_type": "markdown",
   "metadata": {},
   "source": [
    "## Creating the server function\n",
    "\n",
    "Define the server-side of the application which will accept inputs and compute outputs. Our server function is shown below, and illustrates some important concepts:\n",
    "\n",
    "- Accessing input using slots on the input object and generating output by assigning to slots on the output object.\n",
    "- Initializing data at startup that can be accessed throughout the lifetime of the application.\n",
    "- Using a reactive expression to compute a value shared by more than one output.\n",
    "- The basic task of a Shiny server function is to define the relationship between inputs and outputs. Our function does this by accessing inputs to perform computations and by assigning reactive expressions to output slots.\n",
    "\n",
    "Here is the source code for the full server function (the inline comments explain the implementation technqiues in more detail):"
   ]
  },
  {
   "cell_type": "markdown",
   "metadata": {},
   "source": [
    "```server```"
   ]
  },
  {
   "cell_type": "raw",
   "metadata": {},
   "source": [
    "# Data pre-processing ----\n",
    "# Tweak the \"am\" variable to have nicer factor labels -- since this\n",
    "# doesn't rely on any user inputs, we can do this once at startup\n",
    "# and then use the value throughout the lifetime of the app\n",
    "\n",
    "mpgData <- mtcars\n",
    "mpgData$am <- factor(mpgData$am, labels = c(\"Automatic\", \"Manual\"))\n",
    "\n",
    "# Define server logic to plot various variables against mpg ----\n",
    "server <- function(input, output) {\n",
    "\n",
    "  # Compute the formula text ----\n",
    "  # This is in a reactive expression since it is shared by the\n",
    "  # output$caption and output$mpgPlot functions\n",
    "  formulaText <- reactive({\n",
    "    paste(\"mpg ~\", input$variable)\n",
    "  })\n",
    "\n",
    "  # Return the formula text for printing as a caption ----\n",
    "  output$caption <- renderText({\n",
    "    formulaText()\n",
    "  })\n",
    "\n",
    "  # Generate a plot of the requested variable against mpg ----\n",
    "  # and only exclude outliers if requested\n",
    "  output$mpgPlot <- renderPlot({\n",
    "    boxplot(as.formula(formulaText()),\n",
    "            data = mpgData,\n",
    "            outline = input$outliers,\n",
    "            col = \"#75AADB\", pch = 19)\n",
    "  })\n",
    "\n",
    "}"
   ]
  },
  {
   "cell_type": "markdown",
   "metadata": {},
   "source": [
    "The use of ```renderText``` and ```renderPlot``` to generate output (rather than just assigning values directly) is what makes the application reactive. These reactive wrappers return special expressions that are only re-executed when their dependencies change. This behavior is what enables Shiny to automatically update output whenever input changes."
   ]
  },
  {
   "cell_type": "code",
   "execution_count": null,
   "metadata": {},
   "outputs": [
    {
     "name": "stderr",
     "output_type": "stream",
     "text": [
      "\n",
      "Listening on http://127.0.0.1:3645\n",
      "\n"
     ]
    }
   ],
   "source": [
    "library(shiny)\n",
    "runApp(\"./mpg2\")"
   ]
  },
  {
   "cell_type": "markdown",
   "metadata": {},
   "source": [
    "Running the new and improved **Miles Per Gallon** Shiny App: "
   ]
  },
  {
   "cell_type": "raw",
   "metadata": {},
   "source": [
    "R -e \"shiny::runApp('./mpg2')\""
   ]
  },
  {
   "cell_type": "markdown",
   "metadata": {},
   "source": [
    "## Live Reloading\n",
    "\n",
    "When you make changes to your underlying user interface definition or server script you don’t need to stop and restart your application to see the changes. Simply save your changes and then reload the browser to see the updated application in action.\n",
    "\n",
    "One qualification to this: when a browser reload occurs Shiny explicitly checks the timestamp of the app.R file to see if it needs to be re-sourced. Shiny isn’t aware of other scripts or data files that change, so if you use those files and modify them, a full stop and restart of the application is needed."
   ]
  },
  {
   "cell_type": "markdown",
   "metadata": {},
   "source": [
    "- - - \n",
    "<!--NAVIGATION-->\n",
    "Module 14. [Installingtidyverse](./00_InstallingTidyverse.ipynb) | [R Markdown](./01_RMarkdown.ipynb) | **[R + Shiny App](./02_RShinyApp.ipynb)** | [Basic Visualization](./03_BasicVisual.ipynb) | [Tibbles](./04_Tibbles.ipynb)  | [ggplot2](./05_ggplot2.ipynb) | [Statistical Transformations](./06_StatTransforms.ipynb) | [Exercises](./07_Exercises.ipynb)"
   ]
  }
 ],
 "metadata": {
  "kernelspec": {
   "display_name": "R",
   "language": "R",
   "name": "ir"
  },
  "language_info": {
   "codemirror_mode": "r",
   "file_extension": ".r",
   "mimetype": "text/x-r-source",
   "name": "R",
   "pygments_lexer": "r",
   "version": "3.6.1"
  }
 },
 "nbformat": 4,
 "nbformat_minor": 4
}
