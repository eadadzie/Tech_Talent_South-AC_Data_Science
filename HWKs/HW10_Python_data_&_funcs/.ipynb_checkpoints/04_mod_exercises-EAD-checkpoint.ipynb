{
 "cells": [
  {
   "cell_type": "markdown",
   "metadata": {},
   "source": [
    "Data Science Fundamentals: Python |\n",
    "[Table of Contents](../index.ipynb)\n",
    "- - - \n",
    "<!--NAVIGATION-->\n",
    "Module 3. [Control Flow](./01_mod_control_flow.ipynb) | [Statements](./02_python_statements.ipynb) | [Functions](./03_python_functions.ipynb) | **[Exercises](./04_mod_exercises.ipynb)**"
   ]
  },
  {
   "cell_type": "markdown",
   "metadata": {},
   "source": [
    "# Control Flow Exercises"
   ]
  },
  {
   "cell_type": "markdown",
   "metadata": {},
   "source": [
    "### Exercise 1:\n",
    "Guess a number between 1 to 9 given by the user. Hint. [Random](https://docs.python.org/3/library/random.html)"
   ]
  },
  {
   "cell_type": "code",
   "execution_count": 1,
   "metadata": {},
   "outputs": [
    {
     "name": "stdout",
     "output_type": "stream",
     "text": [
      "Guess a number between 1 and 10 until you get it right : 5\n",
      "Guess a number between 1 and 10 until you get it right : 2\n",
      "Guess a number between 1 and 10 until you get it right : 5\n",
      "Guess a number between 1 and 10 until you get it right : 7\n",
      "Guess a number between 1 and 10 until you get it right : 6\n",
      "Guess a number between 1 and 10 until you get it right : 3\n",
      "Guess a number between 1 and 10 until you get it right : 1\n",
      "Guess a number between 1 and 10 until you get it right : 9\n",
      "Guess a number between 1 and 10 until you get it right : 8\n",
      "You guessed correct!\n"
     ]
    }
   ],
   "source": [
    "import random\n",
    "\n",
    "target_num, guess_num = random.randint(1, 10), 0\n",
    "while target_num != guess_num:\n",
    "    guess_num = int(input('Guess a number between 1 and 10 until you get it right : '))\n",
    "print('You guessed correct!')"
   ]
  },
  {
   "cell_type": "markdown",
   "metadata": {},
   "source": [
    "### Exercise 2:\n",
    "Check the validity of password input by the user. Hint. [Re](https://docs.python.org/3/library/re.html) which does matching operations much like Perl.\n",
    "\n",
    "Validation:\n",
    "\n",
    "- At least 1 letter between [a-z] and 1 letter between [A-Z].\n",
    "- At least 1 number between [0-9].\n",
    "- At least 1 character from [$#@].\n",
    "- Minimum length 6 characters.\n",
    "- Maximum length 16 characters."
   ]
  },
  {
   "cell_type": "code",
   "execution_count": 3,
   "metadata": {},
   "outputs": [
    {
     "name": "stdout",
     "output_type": "stream",
     "text": [
      "Enter new password; include uppercase, lowercase, a number, and special character and of length between 6 and 16 characters in length: myPassword20$\n",
      "\n",
      "Password Strength: STRONG\n"
     ]
    }
   ],
   "source": [
    "user_input = input('Enter new password; include uppercase, lowercase, a number, and special character and of length between 6 and 16 characters in length: ')\n",
    "print()\n",
    "#user_input = \"\"\"Emmanuel@20\"\"\"\n",
    " \n",
    "upper = 'ABCDEFGHIJKLMNOPQRSTUVWXYZ'\n",
    "lower = upper.lower()\n",
    "numbers = '0123456789'\n",
    "char = \"\"\"~!@#$%^&_*-+=(){}[]':;\"/\\`.,<>?| \"\"\"\n",
    "length = len(user_input)\n",
    "\n",
    "verify_upper = 0\n",
    "verify_lower = 0\n",
    "verify_numbers = 0\n",
    "verify_char = 0\n",
    "verify_length = 0\n",
    "\n",
    "for i in user_input:\n",
    "    if i in upper:\n",
    "        verify_upper = 1\n",
    "    if i in lower:\n",
    "        verify_lower = 1\n",
    "    if i in numbers:\n",
    "        verify_numbers = 1\n",
    "    if i in char:\n",
    "        verify_char = 1\n",
    "    if 6 <= length <= 16:\n",
    "        verify_length = 1\n",
    "\n",
    "password_verification = verify_upper + verify_lower + verify_numbers + verify_char + verify_length\n",
    "\n",
    "if 0 <= password_verification <= 2:\n",
    "    print(\"Password Strength: WEAK\")\n",
    "elif 3<= password_verification <= 4:\n",
    "    print(\"Password Strength: MEDIUM\")\n",
    "else:\n",
    "    print(\"Password Strength: STRONG\")"
   ]
  },
  {
   "cell_type": "markdown",
   "metadata": {},
   "source": [
    "### Exercise 3:\n",
    "Get input of the age of 3 people by user and determine oldest and youngest among them"
   ]
  },
  {
   "cell_type": "code",
   "execution_count": 8,
   "metadata": {},
   "outputs": [
    {
     "name": "stdout",
     "output_type": "stream",
     "text": [
      "Enter First Person's Age : 52\n",
      "Enter Second Person's Age : 21\n",
      "Enter Third Person's Age : 35\n",
      "\n",
      "First Person is the oldest of age 52 years\n",
      "Second Person is the youngest of age 21 years\n"
     ]
    }
   ],
   "source": [
    "number1 = int(input(\"Enter First Person's Age : \"))\n",
    "number2 = int(input(\"Enter Second Person's Age : \"))\n",
    "number3 = int(input(\"Enter Third Person's Age : \"))\n",
    "print()\n",
    "\n",
    "\n",
    "age_list = [number1, number2, number3]\n",
    "persons = ['First Person', 'Second Person', 'Third Person']\n",
    "\n",
    "for age in age_list:\n",
    "    if age >= max(age_list):\n",
    "        print(f'{persons[age_list.index(age)]} is the oldest of age {age} years')\n",
    "    if age <= min(age_list):\n",
    "        print(f'{persons[age_list.index(age)]} is the youngest of age {age} years')\n",
    "\n"
   ]
  },
  {
   "cell_type": "markdown",
   "metadata": {},
   "source": [
    "### Exercise 4:\n",
    "A student will not be allowed to sit in exam if his/her attendance is less than 75%.\n",
    "\n",
    "Take following input from user\n",
    "\n",
    "- Number of classes held\n",
    "- Number of classes attended.\n",
    "- And print percentage of class attended\n",
    "- Is student is allowed to sit in exam or not?"
   ]
  },
  {
   "cell_type": "code",
   "execution_count": 13,
   "metadata": {},
   "outputs": [
    {
     "name": "stdout",
     "output_type": "stream",
     "text": [
      "Number of classes held : 100\n",
      "Number of classes attended : 75\n",
      "\n",
      "Percentage of attendance: 75.00%\n",
      "\n",
      "Decision: Student is allowed to sit in exam\n"
     ]
    }
   ],
   "source": [
    "#number of classes held:\n",
    "total_classes = int(input('Number of classes held : '))\n",
    "\n",
    "#number of classes attended:\n",
    "classes_attended = int(input('Number of classes attended : '))\n",
    "print()\n",
    "\n",
    "#percentage of classes\n",
    "attendance = (classes_attended / total_classes) * 100\n",
    "allow_exam = 'allowed to sit in exam' if attendance >= 75 else 'NOT allowed to sit in exam'\n",
    "\n",
    "print('Percentage of attendance: %.2f%%' % attendance)\n",
    "print()\n",
    "\n",
    "#Is student allowed to sit in exam?\n",
    "\n",
    "print('Decision: Student is', allow_exam)"
   ]
  },
  {
   "cell_type": "markdown",
   "metadata": {},
   "source": [
    "### Exercise 5:\n",
    "Get an integer N from the user and perform the following actions:\n",
    "\n",
    "Find out - \n",
    "- if N is odd, print \"weird\"\n",
    "- if N is even and in the inclusive range of 2 to 5, print \"Not Weird\"\n",
    "- if N is even and in the inclusive range of 6 to 20, print \"Weird\"\n",
    "- if N is even and greater than 20, print \"Not Weird\""
   ]
  },
  {
   "cell_type": "code",
   "execution_count": 18,
   "metadata": {},
   "outputs": [
    {
     "name": "stdout",
     "output_type": "stream",
     "text": [
      "Enter an integer: 21\n",
      "weird\n"
     ]
    }
   ],
   "source": [
    "# Given an integer, n, perform the following conditional actions:\n",
    "# If n is odd, print Weird\n",
    "# If n is even and in the inclusive range of 2 to 5, print Not Weird\n",
    "# If n is even and in the inclusive range of 6 to 20, print Weird\n",
    "# If n is even and greater than 20, print Not Weird\n",
    "\n",
    "\n",
    "user_input = int(input('Enter an integer: '))\n",
    "\n",
    "if user_input % 2 == 1:\n",
    "    print('weird')\n",
    "elif 2 <= user_input <= 5:\n",
    "    print('Not Weird')\n",
    "elif (user_input % 2 == 0) and (6 <= user_input <= 20):\n",
    "    print('Weird')\n",
    "elif (user_input % 2 == 0) and (user_input > 20):\n",
    "    print('Not Weird')\n",
    "else:\n",
    "    print(\"Unspecified\")\n"
   ]
  },
  {
   "cell_type": "markdown",
   "metadata": {},
   "source": [
    "\n",
    "## Extra Points\n",
    "- - -"
   ]
  },
  {
   "cell_type": "markdown",
   "metadata": {},
   "source": [
    "1. ***Optional Exercise (Extra Points)***. Write a Python program to reverse a string."
   ]
  },
  {
   "cell_type": "raw",
   "metadata": {},
   "source": [
    "Sample String : \"1234abcd\"\n",
    "Expected Output : \"dcba4321\""
   ]
  },
  {
   "cell_type": "code",
   "execution_count": 19,
   "metadata": {},
   "outputs": [
    {
     "name": "stdout",
     "output_type": "stream",
     "text": [
      "Reversed: dcba4321\n"
     ]
    }
   ],
   "source": [
    "string = \"1234abcd\"\n",
    "\n",
    "reversed_string = string[::-1]\n",
    "\n",
    "print('Reversed:', reversed_string)"
   ]
  },
  {
   "cell_type": "markdown",
   "metadata": {},
   "source": [
    "2. ***Optional Exercise (Extra Points)***. Write a Python function to multiply all the numbers in a list. "
   ]
  },
  {
   "cell_type": "raw",
   "metadata": {},
   "source": [
    "Sample List : (8, 2, 3, -1, 7)\n",
    "Expected Output : -336"
   ]
  },
  {
   "cell_type": "code",
   "execution_count": 21,
   "metadata": {},
   "outputs": [
    {
     "name": "stdout",
     "output_type": "stream",
     "text": [
      "Output: -336\n"
     ]
    }
   ],
   "source": [
    "list_1 = [8, 2, 3, -1, 7]\n",
    "\n",
    "def multiply(some_list=[]):\n",
    "    multiple = 1\n",
    "    for number in some_list:\n",
    "        multiple *= number\n",
    "    print('Output:', multiple)\n",
    "    \n",
    "# Call function\n",
    "multiply(list_1)\n"
   ]
  },
  {
   "cell_type": "markdown",
   "metadata": {},
   "source": [
    "3. ***Optional Exercise (Extra Points)***. Write a Python function that accepts a string and calculate the number of upper case letters and lower case letters."
   ]
  },
  {
   "cell_type": "raw",
   "metadata": {},
   "source": [
    "Sample String : 'The quick Brow Fox'\n",
    "Expected Output :\n",
    "No. of Upper case characters : 3\n",
    "No. of Lower case Characters : 12"
   ]
  },
  {
   "cell_type": "code",
   "execution_count": 26,
   "metadata": {},
   "outputs": [
    {
     "name": "stdout",
     "output_type": "stream",
     "text": [
      "No. of Upper case characters : 3\n",
      "No. of Lower case characters : 12\n"
     ]
    }
   ],
   "source": [
    "Sample_String = 'The quick Brow Fox'\n",
    "\n",
    "def calculate_case(string = ''):\n",
    "    Upper = 0\n",
    "    Lower = 0\n",
    "    for char in string:\n",
    "        if char == ' ':\n",
    "            continue\n",
    "        elif char == char.upper():\n",
    "            Upper += 1\n",
    "        elif char == char.lower():\n",
    "            Lower += 1\n",
    "    print('No. of Upper case characters :', Upper)\n",
    "    print('No. of Lower case characters :', Lower)\n",
    "\n",
    "# Callinf the function\n",
    "calculate_case(Sample_String)"
   ]
  },
  {
   "cell_type": "markdown",
   "metadata": {},
   "source": [
    "- - -\n",
    "\n",
    "Copyright © 2020 Qualex Consulting Services Incorporated."
   ]
  }
 ],
 "metadata": {
  "kernelspec": {
   "display_name": "Python 3",
   "language": "python",
   "name": "python3"
  },
  "language_info": {
   "codemirror_mode": {
    "name": "ipython",
    "version": 3
   },
   "file_extension": ".py",
   "mimetype": "text/x-python",
   "name": "python",
   "nbconvert_exporter": "python",
   "pygments_lexer": "ipython3",
   "version": "3.8.5"
  }
 },
 "nbformat": 4,
 "nbformat_minor": 4
}
