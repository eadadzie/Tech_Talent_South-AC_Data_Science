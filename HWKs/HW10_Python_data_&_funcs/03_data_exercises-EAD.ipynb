{
 "cells": [
  {
   "cell_type": "markdown",
   "metadata": {},
   "source": [
    "Data Science Fundamentals: Python |\n",
    "[Table of Contents](../index.ipynb)\n",
    "- - - \n",
    "<!--NAVIGATION-->\n",
    "Module 2. Python Data | [Simple Types](./01_simple_types.ipynb) | [Data Structures](./02_data_structures.ipynb) | **[Exercises](./03_data_exercises.ipynb)**"
   ]
  },
  {
   "cell_type": "markdown",
   "metadata": {},
   "source": [
    "# Data Structure Exercises"
   ]
  },
  {
   "cell_type": "markdown",
   "metadata": {},
   "source": [
    "### Exercise 1:\n",
    "\n",
    "In mathematics, the quadratic equation ax2+bx+c=0 can be solved with the formula x=−b±b2−4ac√2a.\n",
    "\n",
    "Write a function solve_quadratic, that returns both solutions of a generic quadratic as a pair (2-tuple) when the coefficients are given as parameters. It should work like this:\n",
    "\n",
    "print(solve_quadratic(1,-3,2))\n",
    "(2.0,1.0)\n",
    "print(solve_quadratic(1,2,1))\n",
    "(-1.0,-1.0)\n",
    "You may want to use the math.sqrt function from the math module in your solution. Test that your function works in the main function!"
   ]
  },
  {
   "cell_type": "code",
   "execution_count": 1,
   "metadata": {},
   "outputs": [
    {
     "name": "stdout",
     "output_type": "stream",
     "text": [
      "(2.0, 1.0)\n",
      "\n",
      "(-1.0, -1.0)\n"
     ]
    }
   ],
   "source": [
    "import math as m\n",
    "\n",
    "def solve_quadratic(a, b, c):\n",
    "    x1 = (-b + m.sqrt(b ** 2 - (4 * a * c))) / (2 * a)\n",
    "    \n",
    "    x2 = (-b - m.sqrt(b ** 2 - (4 * a * c))) / (2 * a)\n",
    "    \n",
    "    return (x1, x2)\n",
    "\n",
    "print(solve_quadratic(1,-3,2))\n",
    "print()\n",
    "print(solve_quadratic(1,2,1))"
   ]
  },
  {
   "cell_type": "markdown",
   "metadata": {},
   "source": [
    "### Exercise 2:\n",
    "Get a space-separated list of integers from the user, create a tuple of those integers. Then compute and print the result of hash(tuple).  [Hint](https://docs.python.org/3/library/functions.html#hash). **Hash()**"
   ]
  },
  {
   "cell_type": "markdown",
   "metadata": {},
   "source": [
    "A **[hash](https://en.wikipedia.org/wiki/Hash_function)** is an fixed sized integer that identifies a particular value. Each value needs to have its own hash, so for the same value you will get the same hash even if it's not the same object."
   ]
  },
  {
   "cell_type": "code",
   "execution_count": 2,
   "metadata": {},
   "outputs": [
    {
     "name": "stdout",
     "output_type": "stream",
     "text": [
      "Please enter a list of space separated integers: 1 2 3 4 5 6 7 8 9\n",
      "2885636760529661641\n"
     ]
    }
   ],
   "source": [
    "listOne = list(map(int, input(\"Please enter a list of space separated integers: \").split()))\n",
    "tupleOne = tuple(listOne)\n",
    "print(hash(tupleOne))"
   ]
  },
  {
   "cell_type": "markdown",
   "metadata": {},
   "source": [
    "### Exercise 3:\n",
    "Take the following two lists. Create a third list by picking a odd-index elements from the first list and even-index elements from the second."
   ]
  },
  {
   "cell_type": "code",
   "execution_count": 3,
   "metadata": {},
   "outputs": [],
   "source": [
    "list1 = [3, 6, 9, 12, 15, 18, 21]\n",
    "list2 = [4, 8, 12, 16, 20, 24, 28]"
   ]
  },
  {
   "cell_type": "code",
   "execution_count": 4,
   "metadata": {},
   "outputs": [
    {
     "name": "stdout",
     "output_type": "stream",
     "text": [
      "Odd Index Numbers: [6, 12, 18]\n",
      "Even Index Numbers: [4, 12, 20, 28]\n",
      "\n",
      "List Three: [6, 12, 18, 4, 12, 20, 28]\n"
     ]
    }
   ],
   "source": [
    "odd_index = list1[1::2]\n",
    "even_index = list2[0::2]\n",
    "\n",
    "print(\"Odd Index Numbers:\", odd_index)\n",
    "print(\"Even Index Numbers:\", even_index)\n",
    "print()\n",
    "\n",
    "listThree = odd_index + even_index\n",
    "\n",
    "print(\"List Three:\", listThree)"
   ]
  },
  {
   "cell_type": "markdown",
   "metadata": {},
   "source": [
    "### Exercise 4:\n",
    "Take the following list. Slice it into three equal chunks and reverse each list."
   ]
  },
  {
   "cell_type": "code",
   "execution_count": 5,
   "metadata": {},
   "outputs": [],
   "source": [
    "sampleList = [11, 45, 8, 23, 14, 12, 78, 45, 89]"
   ]
  },
  {
   "cell_type": "code",
   "execution_count": 16,
   "metadata": {},
   "outputs": [
    {
     "name": "stdout",
     "output_type": "stream",
     "text": [
      "list 1: [11, 45, 8]\n",
      "list 2: [23, 14, 12]\n",
      "list 3: [78, 45, 89]\n",
      "\n",
      "Reversed list 1: [8, 45, 11]\n",
      "Reversed list 2: [12, 14, 23]\n",
      "Reversed list 3: [89, 45, 78]\n"
     ]
    }
   ],
   "source": [
    "divisor = 3\n",
    "chunk = len(sampleList)//divisor\n",
    "\n",
    "list1 = sampleList[0:chunk]\n",
    "list2 = sampleList[chunk:2*chunk]\n",
    "list3 = sampleList[2*chunk:]\n",
    "\n",
    "print(\"list 1:\", list1)\n",
    "print(\"list 2:\", list2)\n",
    "print(\"list 3:\", list3)\n",
    "print()\n",
    "\n",
    "print(\"Reversed list 1:\", list1[::-1])\n",
    "print(\"Reversed list 2:\", list2[::-1])\n",
    "print(\"Reversed list 3:\", list3[::-1])"
   ]
  },
  {
   "cell_type": "markdown",
   "metadata": {},
   "source": [
    "### Exercise 5: \n",
    "Iterate through a given list and check if a given element already exists in a dictionary as a key’s value. If not, delete it from the list."
   ]
  },
  {
   "cell_type": "code",
   "execution_count": 2,
   "metadata": {},
   "outputs": [],
   "source": [
    "rollNumber = [47, 64, 69, 37, 76, 83, 95, 97]\n",
    "sampleDict ={'Zach':47, 'Emma':69, 'Kelly':76, 'Jason':97}"
   ]
  },
  {
   "cell_type": "code",
   "execution_count": 3,
   "metadata": {},
   "outputs": [
    {
     "name": "stdout",
     "output_type": "stream",
     "text": [
      "Skipped  47\n",
      "Removed (64)\n",
      "Skipped  69\n",
      "Removed (37)\n",
      "Skipped  76\n",
      "Removed (83)\n",
      "Removed (95)\n",
      "Skipped  97\n",
      "\n",
      "Final list: [47, 69, 76, 97]\n"
     ]
    }
   ],
   "source": [
    "for i in [x for x in rollNumber]:   # Creating a copy of the rollNumber list to keep it intact\n",
    "    if i not in sampleDict.values():\n",
    "        rollNumber.remove(i)\n",
    "        print(\"Removed (%s)\" % i)\n",
    "    else:\n",
    "        print(\"Skipped  %s\" % i)\n",
    "        continue\n",
    "        \n",
    "print()\n",
    "print(\"Final list:\", rollNumber)\n",
    "\n",
    "\n",
    "'''\n",
    "Alternative Approach\n",
    "\n",
    "rollNumber = list(filter(lambda i: i in sampleDict.values(), rollNumber))\n",
    "\n",
    "'''"
   ]
  },
  {
   "cell_type": "markdown",
   "metadata": {},
   "source": [
    "## Extra Points\n",
    "- - -"
   ]
  },
  {
   "cell_type": "markdown",
   "metadata": {},
   "source": [
    "1. ***Optional Exercise (Extra Points)***.  Write a Python program to convert a tuple to a string."
   ]
  },
  {
   "cell_type": "code",
   "execution_count": null,
   "metadata": {},
   "outputs": [],
   "source": []
  },
  {
   "cell_type": "markdown",
   "metadata": {},
   "source": [
    "2. ***Optional Exercise (Extra Points)***.  Write a Python program to check whether an element exists within a tuple."
   ]
  },
  {
   "cell_type": "code",
   "execution_count": null,
   "metadata": {},
   "outputs": [],
   "source": []
  },
  {
   "cell_type": "markdown",
   "metadata": {},
   "source": [
    "3. ***Optional Exercise (Extra Points)***.  Write a Python program to print a tuple with string formatting."
   ]
  },
  {
   "cell_type": "raw",
   "metadata": {},
   "source": []
  },
  {
   "cell_type": "code",
   "execution_count": null,
   "metadata": {},
   "outputs": [],
   "source": []
  },
  {
   "cell_type": "markdown",
   "metadata": {},
   "source": [
    "- - - \n",
    "<!--NAVIGATION-->\n",
    "Module 2. Python Data | [Simple Types](./01_simple_types.ipynb) | [Data Structures](./02_data_structures.ipynb) | **[Exercises](./03_data_exercises.ipynb)**\n",
    "<br>\n",
    "[Top](#)"
   ]
  },
  {
   "cell_type": "markdown",
   "metadata": {},
   "source": [
    "- - -\n",
    "\n",
    "Copyright © 2020 Qualex Consulting Services Incorporated."
   ]
  }
 ],
 "metadata": {
  "kernelspec": {
   "display_name": "Python 3",
   "language": "python",
   "name": "python3"
  },
  "language_info": {
   "codemirror_mode": {
    "name": "ipython",
    "version": 3
   },
   "file_extension": ".py",
   "mimetype": "text/x-python",
   "name": "python",
   "nbconvert_exporter": "python",
   "pygments_lexer": "ipython3",
   "version": "3.8.5"
  }
 },
 "nbformat": 4,
 "nbformat_minor": 4
}
